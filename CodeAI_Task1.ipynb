{
 "cells": [
  {
   "cell_type": "markdown",
   "id": "aaa23733-297d-49e3-8f81-337f5d392cc1",
   "metadata": {},
   "source": [
    "TASK 1"
   ]
  },
  {
   "cell_type": "markdown",
   "id": "69972155-7279-4cc0-b9e6-0942a4a7ab93",
   "metadata": {},
   "source": [
    "Python Basics & Control Structures"
   ]
  },
  {
   "cell_type": "code",
   "execution_count": 1,
   "id": "5363feb1-3633-4bd7-8de1-167b956f7a72",
   "metadata": {},
   "outputs": [
    {
     "name": "stdout",
     "output_type": "stream",
     "text": [
      "The length of 'mango' is 5\n",
      "The length of 'guava' is 5\n",
      "The length of 'kiwi' is 4\n",
      "The length of 'apple' is 5\n"
     ]
    }
   ],
   "source": [
    "fruits = [\"mango\", \"banana\", \"papaya\", \"guava\", \"grapes\", \"pomegranate\", \"litchi\", \"chikoo\", \"custard apple\", \"watermelon\", \"orange\", \"pineapple\", \"kiwi\", \"apple\"]\n",
    "\n",
    "for fruit in fruits:\n",
    "    if len(fruit) <= 5:\n",
    "        print(f\"The length of '{fruit}' is {len(fruit)}\")"
   ]
  },
  {
   "cell_type": "markdown",
   "id": "41d6b8d0-fdfc-45fd-a32d-f384955740c2",
   "metadata": {},
   "source": [
    "Functions & Lambda"
   ]
  },
  {
   "cell_type": "code",
   "execution_count": 2,
   "id": "7001518d-f6c1-4ac5-a77b-d6c7f493f5ba",
   "metadata": {},
   "outputs": [
    {
     "name": "stdout",
     "output_type": "stream",
     "text": [
      "Orignial List [1, 5, 10, 3, 8]\n",
      "Edited List [10, 8]\n"
     ]
    }
   ],
   "source": [
    "def Remove(Numbers_List,min_num):\n",
    "  return(list(filter(lambda number : number>min_num,Numbers_List)))\n",
    "\n",
    "Numbers_List= [1, 5, 10, 3, 8]\n",
    "min_num = 5\n",
    "Numbers_above_5 = Remove(Numbers_List,min_num)\n",
    "\n",
    "print(f'Orignial List {Numbers_List}')\n",
    "print(f'Edited List {Numbers_above_5}')"
   ]
  },
  {
   "cell_type": "markdown",
   "id": "6eca4c0a-b9bc-417c-b39c-22bde2e9730c",
   "metadata": {},
   "source": [
    "Object-Oriented Programming (OOP)"
   ]
  },
  {
   "cell_type": "code",
   "execution_count": 3,
   "id": "4fe96d82-8513-4c6a-a1ba-59e2a6f989aa",
   "metadata": {},
   "outputs": [
    {
     "name": "stdout",
     "output_type": "stream",
     "text": [
      "Initial Account Balances\n",
      "Account ID: 001, Holder: Kavya, Balance: ₹1000.00\n",
      "Account ID: 002, Holder: Sachin, Balance: ₹500.00\n",
      "\n",
      "Performing Operations\n",
      "Depositing 200 into account 001...\n",
      "Withdrawing 150 from account 002...\n",
      "Transferring 300 from account 001 to account 002...\n",
      "\n",
      "Final Account Balances\n",
      "Account ID: 001, Holder: Kavya, Balance: ₹900.00\n",
      "Account ID: 002, Holder: Sachin, Balance: ₹650.00\n"
     ]
    }
   ],
   "source": [
    "class BankAccount:\n",
    "    def __init__(self, account_id, holder_name, initial_balance=0.0):\n",
    "        self.account_id = account_id\n",
    "        self.holder_name = holder_name\n",
    "        self.balance = initial_balance\n",
    "\n",
    "    def deposit(self, amount):\n",
    "        if amount > 0:\n",
    "            self.balance += amount\n",
    "            return True\n",
    "        return False\n",
    "\n",
    "    def withdraw(self, amount):\n",
    "        if amount > 0 and self.balance >= amount:\n",
    "            self.balance -= amount\n",
    "            return True\n",
    "        return False\n",
    "\n",
    "    def transfer(self, amount, recipient_account):\n",
    "        if self.withdraw(amount):\n",
    "            recipient_account.deposit(amount)\n",
    "            return True\n",
    "        return False\n",
    "\n",
    "    def __str__(self):\n",
    "        return f\"Account ID: {self.account_id}, Holder: {self.holder_name}, Balance: ₹{self.balance:.2f}\"\n",
    "\n",
    "ACC_1 = BankAccount(\"001\", \"Kavya\", 1000)\n",
    "ACC_2 = BankAccount(\"002\", \"Sachin\", 500)\n",
    "\n",
    "print(\"Initial Account Balances\")\n",
    "print(ACC_1)\n",
    "print(ACC_2)\n",
    "\n",
    "print(\"\\nPerforming Operations\")\n",
    "print(f\"Depositing 200 into account {ACC_1.account_id}...\")\n",
    "ACC_1.deposit(200)\n",
    "print(f\"Withdrawing 150 from account {ACC_2.account_id}...\")\n",
    "ACC_2.withdraw(150)\n",
    "print(f\"Transferring 300 from account {ACC_1.account_id} to account {ACC_2.account_id}...\")\n",
    "ACC_1.transfer(300, ACC_2)\n",
    "\n",
    "print(\"\\nFinal Account Balances\")\n",
    "print(ACC_1)\n",
    "print(ACC_2)\n"
   ]
  },
  {
   "cell_type": "markdown",
   "id": "4d7ed267-33fe-4f10-8f30-7d0e5246ee0f",
   "metadata": {},
   "source": [
    "Exception Handling"
   ]
  },
  {
   "cell_type": "code",
   "execution_count": 4,
   "id": "d3e1b02d-354e-412f-9448-a99afc2610ff",
   "metadata": {},
   "outputs": [
    {
     "name": "stdout",
     "output_type": "stream",
     "text": [
      "10/2: 5.0\n",
      "10/0: Error: Cannot divide by zero.\n",
      "ten/2: Error: Invalid input. Please provide numeric values.\n"
     ]
    }
   ],
   "source": [
    "def divide_numbers(a, b):\n",
    "    try:\n",
    "        result = float(a) / float(b)\n",
    "        return result\n",
    "    except ZeroDivisionError:\n",
    "        return \"Error: Cannot divide by zero.\"\n",
    "    except (ValueError, TypeError):\n",
    "        return \"Error: Invalid input. Please provide numeric values.\"\n",
    "\n",
    "\n",
    "print(f\"10/2: {divide_numbers(10, 2)}\")\n",
    "\n",
    "\n",
    "print(f\"10/0: {divide_numbers(10, 0)}\")\n",
    "\n",
    "print(f\"ten/2: {divide_numbers('ten', 2)}\")\n",
    "\n"
   ]
  },
  {
   "cell_type": "markdown",
   "id": "a399b2d1-13c3-4509-a8d4-b7b4095d6e9c",
   "metadata": {},
   "source": [
    "Python Modules & File Handling"
   ]
  },
  {
   "cell_type": "code",
   "execution_count": 5,
   "id": "9b19a786-bd5b-4a3c-b3ea-238e9d18f6cb",
   "metadata": {},
   "outputs": [
    {
     "name": "stdout",
     "output_type": "stream",
     "text": [
      "File 'students.txt' created successfully.\n",
      "\n",
      "Students with marks above 80:\n",
      "- Alice\n",
      "- Charlie\n",
      "- Eve\n"
     ]
    }
   ],
   "source": [
    "with open(\"students.txt\", \"w\") as file:\n",
    "    file.write(\"Alice,95\\n\")\n",
    "    file.write(\"Bob,78\\n\")\n",
    "    file.write(\"Charlie,82\\n\")\n",
    "    file.write(\"David,65\\n\")\n",
    "    file.write(\"Eve,91\\n\")\n",
    "    file.write(\"Frank,80\\n\")\n",
    "\n",
    "print(\"File 'students.txt' created successfully.\\n\")\n",
    "\n",
    "eighty_marks = 80\n",
    "with open(\"students.txt\", \"r\") as file:\n",
    "    print(f\"Students with marks above {eighty_marks}:\")\n",
    "    for line in file:\n",
    "        name, marks_str = line.strip().split(',')\n",
    "        marks = int(marks_str)\n",
    "        if marks > eighty_marks:\n",
    "            print(f\"- {name}\")\n"
   ]
  },
  {
   "cell_type": "markdown",
   "id": "80446a11-b66f-46de-85ba-574da18c4351",
   "metadata": {},
   "source": [
    "Regular Expressions"
   ]
  },
  {
   "cell_type": "code",
   "execution_count": 6,
   "id": "025683d9-d387-43c6-8489-ccb40e56e1e9",
   "metadata": {},
   "outputs": [
    {
     "name": "stdin",
     "output_type": "stream",
     "text": [
      "Enter the text:  contact me at +91-9167377384 or +91-9167377385\n"
     ]
    },
    {
     "name": "stdout",
     "output_type": "stream",
     "text": [
      "['+91-9167377384', '+91-9167377385']\n"
     ]
    }
   ],
   "source": [
    "text = input('Enter the text: ')\n",
    "\n",
    "Phone_numbers = []\n",
    "numbers = '0123456789-'\n",
    "\n",
    "for i, char in enumerate(text):\n",
    "    if char == '+':\n",
    "        temp_number = char  \n",
    "        for digit in text[i+1:]:\n",
    "            if len(temp_number) >= 14:\n",
    "                break\n",
    "            if digit in numbers:\n",
    "                temp_number += digit\n",
    "            else:\n",
    "                break\n",
    "        if len(temp_number) == 14 and temp_number[3] == '-':\n",
    "            Phone_numbers.append(temp_number)  \n",
    "\n",
    "if Phone_numbers:\n",
    "    print(Phone_numbers)\n",
    "else:\n",
    "    print('No number found')\n",
    "\n",
    "                \n",
    "        \n",
    "                "
   ]
  }
 ],
 "metadata": {
  "kernelspec": {
   "display_name": "Python 3 (ipykernel)",
   "language": "python",
   "name": "python3"
  },
  "language_info": {
   "codemirror_mode": {
    "name": "ipython",
    "version": 3
   },
   "file_extension": ".py",
   "mimetype": "text/x-python",
   "name": "python",
   "nbconvert_exporter": "python",
   "pygments_lexer": "ipython3",
   "version": "3.13.2"
  }
 },
 "nbformat": 4,
 "nbformat_minor": 5
}
