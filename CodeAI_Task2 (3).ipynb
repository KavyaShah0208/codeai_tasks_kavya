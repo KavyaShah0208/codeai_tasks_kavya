{
 "cells": [
  {
   "cell_type": "markdown",
   "id": "61960389-e35f-4b15-b5c5-e84ba58e2e2d",
   "metadata": {},
   "source": [
    "Importing Libraries for Data Analysis"
   ]
  },
  {
   "cell_type": "code",
   "execution_count": 63,
   "id": "59edbd8c-e27e-4fc1-94c5-1daecc613e21",
   "metadata": {},
   "outputs": [],
   "source": [
    "import numpy as np\n",
    "import pandas as pd\n",
    "import matplotlib.pyplot as plt"
   ]
  },
  {
   "cell_type": "markdown",
   "id": "e52eb646-77f6-412c-afdf-d31dcbda47d5",
   "metadata": {},
   "source": [
    "Importing the Dataset"
   ]
  },
  {
   "cell_type": "code",
   "execution_count": 64,
   "id": "685ab24c-132c-4cc1-8adb-7479d794f4ec",
   "metadata": {},
   "outputs": [],
   "source": [
    "data = \"https://docs.google.com/spreadsheets/d/1eUrPYL32VykYfRWIspYoBlWJk2g2CRM1e9nTX351_ds/gviz/tq?tqx=out:csv&gid=1039833698\"\n",
    "\n",
    "df2 = pd.read_csv(data)\n",
    "df=pd.DataFrame(df2)\n",
    "\n",
    "\n"
   ]
  },
  {
   "cell_type": "markdown",
   "id": "a16b6608-0731-4c5c-be9a-db7148d3d4ba",
   "metadata": {},
   "source": [
    "Overview"
   ]
  },
  {
   "cell_type": "code",
   "execution_count": 65,
   "id": "80a2e918-434b-4bda-826c-0a1ce8ebc636",
   "metadata": {},
   "outputs": [
    {
     "name": "stdout",
     "output_type": "stream",
     "text": [
      "   matchId  inning  over_ball  over  ball           batting_team  \\\n",
      "0   335982       1        0.1     0     1  Kolkata Knight Riders   \n",
      "1   335982       1        0.2     0     2  Kolkata Knight Riders   \n",
      "2   335982       1        0.3     0     3  Kolkata Knight Riders   \n",
      "3   335982       1        0.4     0     4  Kolkata Knight Riders   \n",
      "4   335982       1        0.5     0     5  Kolkata Knight Riders   \n",
      "\n",
      "                  bowling_team      batsman  non_striker   bowler  \\\n",
      "0  Royal Challengers Bangalore   SC Ganguly  BB McCullum  P Kumar   \n",
      "1  Royal Challengers Bangalore  BB McCullum   SC Ganguly  P Kumar   \n",
      "2  Royal Challengers Bangalore  BB McCullum   SC Ganguly  P Kumar   \n",
      "3  Royal Challengers Bangalore  BB McCullum   SC Ganguly  P Kumar   \n",
      "4  Royal Challengers Bangalore  BB McCullum   SC Ganguly  P Kumar   \n",
      "\n",
      "   batsman_runs  extras  isWide  isNoBall  Byes  LegByes  Penalty  \\\n",
      "0             0       1     NaN       NaN   NaN      1.0      NaN   \n",
      "1             0       0     NaN       NaN   NaN      NaN      NaN   \n",
      "2             0       1     1.0       NaN   NaN      NaN      NaN   \n",
      "3             0       0     NaN       NaN   NaN      NaN      NaN   \n",
      "4             0       0     NaN       NaN   NaN      NaN      NaN   \n",
      "\n",
      "  dismissal_kind player_dismissed        date  \n",
      "0            NaN              NaN  2008-04-18  \n",
      "1            NaN              NaN  2008-04-18  \n",
      "2            NaN              NaN  2008-04-18  \n",
      "3            NaN              NaN  2008-04-18  \n",
      "4            NaN              NaN  2008-04-18  \n"
     ]
    }
   ],
   "source": [
    "print(df.head())\n"
   ]
  },
  {
   "cell_type": "code",
   "execution_count": 66,
   "id": "83494e29-8f9b-41b9-a091-1ccb8a40635f",
   "metadata": {
    "scrolled": true
   },
   "outputs": [
    {
     "name": "stdout",
     "output_type": "stream",
     "text": [
      "<class 'pandas.core.frame.DataFrame'>\n",
      "RangeIndex: 260920 entries, 0 to 260919\n",
      "Data columns (total 20 columns):\n",
      " #   Column            Non-Null Count   Dtype  \n",
      "---  ------            --------------   -----  \n",
      " 0   matchId           260920 non-null  int64  \n",
      " 1   inning            260920 non-null  int64  \n",
      " 2   over_ball         260920 non-null  float64\n",
      " 3   over              260920 non-null  int64  \n",
      " 4   ball              260920 non-null  int64  \n",
      " 5   batting_team      260920 non-null  object \n",
      " 6   bowling_team      260920 non-null  object \n",
      " 7   batsman           260920 non-null  object \n",
      " 8   non_striker       260920 non-null  object \n",
      " 9   bowler            260920 non-null  object \n",
      " 10  batsman_runs      260920 non-null  int64  \n",
      " 11  extras            260920 non-null  int64  \n",
      " 12  isWide            8381 non-null    float64\n",
      " 13  isNoBall          1093 non-null    float64\n",
      " 14  Byes              673 non-null     float64\n",
      " 15  LegByes           4001 non-null    float64\n",
      " 16  Penalty           2 non-null       float64\n",
      " 17  dismissal_kind    12950 non-null   object \n",
      " 18  player_dismissed  12950 non-null   object \n",
      " 19  date              260920 non-null  object \n",
      "dtypes: float64(6), int64(6), object(8)\n",
      "memory usage: 39.8+ MB\n",
      "None\n"
     ]
    }
   ],
   "source": [
    "print(df.info())"
   ]
  },
  {
   "cell_type": "markdown",
   "id": "7313a73e-8e59-4eed-b1dd-bc8e78cc93ce",
   "metadata": {},
   "source": [
    "Data Cleaning"
   ]
  },
  {
   "cell_type": "code",
   "execution_count": 67,
   "id": "cf8cf174-2594-45c2-8bed-36ecc7e61466",
   "metadata": {},
   "outputs": [
    {
     "name": "stdout",
     "output_type": "stream",
     "text": [
      "matchId                  0\n",
      "inning                   0\n",
      "over_ball                0\n",
      "over                     0\n",
      "ball                     0\n",
      "batting_team             0\n",
      "bowling_team             0\n",
      "batsman                  0\n",
      "non_striker              0\n",
      "bowler                   0\n",
      "batsman_runs             0\n",
      "extras                   0\n",
      "isWide              252539\n",
      "isNoBall            259827\n",
      "Byes                260247\n",
      "LegByes             256919\n",
      "Penalty             260918\n",
      "dismissal_kind      247970\n",
      "player_dismissed    247970\n",
      "date                     0\n",
      "dtype: int64\n"
     ]
    }
   ],
   "source": [
    "print(df.isnull().sum())"
   ]
  },
  {
   "cell_type": "code",
   "execution_count": 68,
   "id": "4fb3e09b-59eb-40a2-8a2b-6b076846bbf6",
   "metadata": {},
   "outputs": [
    {
     "name": "stdout",
     "output_type": "stream",
     "text": [
      "matchId             0\n",
      "inning              0\n",
      "over_ball           0\n",
      "over                0\n",
      "ball                0\n",
      "batting_team        0\n",
      "bowling_team        0\n",
      "batsman             0\n",
      "non_striker         0\n",
      "bowler              0\n",
      "batsman_runs        0\n",
      "extras              0\n",
      "isWide              0\n",
      "isNoBall            0\n",
      "Byes                0\n",
      "LegByes             0\n",
      "Penalty             0\n",
      "dismissal_kind      0\n",
      "player_dismissed    0\n",
      "date                0\n",
      "dtype: int64\n"
     ]
    }
   ],
   "source": [
    "df['isWide']=df['isWide'].fillna(0)\n",
    "df['isNoBall']=df['isNoBall'].fillna(0)\n",
    "df['Byes']=df['Byes'].fillna(0)\n",
    "df['LegByes']=df['LegByes'].fillna(0)\n",
    "df['Penalty']=df['Penalty'].fillna(0)\n",
    "df['dismissal_kind']=df['dismissal_kind'].fillna('Not Dismissed')\n",
    "df['player_dismissed']=df['player_dismissed'].fillna('Not Dismissed')\n",
    "df['batsman_runs'] = df['batsman_runs'].fillna(0)\n",
    "df['batsman'] = df['batsman_runs'].fillna(0)\n",
    "\n",
    "print(df.isnull().sum())"
   ]
  },
  {
   "cell_type": "markdown",
   "id": "a47d2a4b-3b72-4917-95f7-3760ffd1aac7",
   "metadata": {},
   "source": [
    "Analysis"
   ]
  },
  {
   "cell_type": "code",
   "execution_count": 69,
   "id": "1226d320-2264-4710-b904-fefff0c9d9cc",
   "metadata": {},
   "outputs": [],
   "source": [
    "df['runs_on_ball']=df['batsman_runs']+df['extras']\n"
   ]
  },
  {
   "cell_type": "markdown",
   "id": "c6815720-2a74-44fc-8bca-439205a9c7c0",
   "metadata": {},
   "source": [
    "runs conceeded by each team on each ball on average vs overall runs scored on each ball"
   ]
  },
  {
   "cell_type": "code",
   "execution_count": 70,
   "id": "d182467a-a933-44bb-8d83-d449cfab2455",
   "metadata": {},
   "outputs": [
    {
     "name": "stdout",
     "output_type": "stream",
     "text": [
      "bowling_team\n",
      "Royal Challengers Bengaluru    1.565797\n",
      "Gujarat Lions                  1.435825\n",
      "Punjab Kings                   1.420598\n",
      "Lucknow Super Giants           1.418867\n",
      "Gujarat Titans                 1.410111\n",
      "Delhi Capitals                 1.372593\n",
      "Kings XI Punjab                1.354846\n",
      "Sunrisers Hyderabad            1.340102\n",
      "Royal Challengers Bangalore    1.339340\n",
      "Rajasthan Royals               1.329525\n",
      "Delhi Daredevils               1.320694\n",
      "Kolkata Knight Riders          1.317668\n",
      "Mumbai Indians                 1.310776\n",
      "Rising Pune Supergiants        1.308359\n",
      "Chennai Super Kings            1.302037\n",
      "Deccan Chargers                1.285319\n",
      "Rising Pune Supergiant         1.263485\n",
      "Pune Warriors                  1.256551\n",
      "Kochi Tuskers Kerala           1.230483\n",
      "Name: runs_on_ball, dtype: float64\n",
      "1.3328069906484745\n"
     ]
    }
   ],
   "source": [
    "print(df.groupby('bowling_team')['runs_on_ball'].mean().sort_values(ascending=False))\n",
    "print(df['runs_on_ball'].mean())\n"
   ]
  },
  {
   "cell_type": "markdown",
   "id": "e14ad6b8-c135-40ad-80cc-c83977c0498a",
   "metadata": {},
   "source": [
    "Runs Scored by each team on average"
   ]
  },
  {
   "cell_type": "code",
   "execution_count": 71,
   "id": "2ce558c5-c72e-4bbf-a0de-b5337ba96841",
   "metadata": {},
   "outputs": [
    {
     "data": {
      "text/plain": [
       "batting_team\n",
       "Royal Challengers Bengaluru    184.092409\n",
       "Gujarat Titans                 160.691664\n",
       "Punjab Kings                   158.794088\n",
       "Lucknow Super Giants           157.355556\n",
       "Delhi Capitals                 155.991230\n",
       "Gujarat Lions                  155.771172\n",
       "Chennai Super Kings            153.875257\n",
       "Mumbai Indians                 152.480198\n",
       "Royal Challengers Bangalore    152.355965\n",
       "Sunrisers Hyderabad            151.852767\n",
       "Rajasthan Royals               151.241521\n",
       "Kings XI Punjab                151.237305\n",
       "Kolkata Knight Riders          151.042895\n",
       "Rising Pune Supergiant         149.684211\n",
       "Rising Pune Supergiants        149.012658\n",
       "Delhi Daredevils               147.058448\n",
       "Deccan Chargers                144.587115\n",
       "Kochi Tuskers Kerala           133.350190\n",
       "Pune Warriors                  133.161859\n",
       "Name: batsman_runs, dtype: float64"
      ]
     },
     "execution_count": 71,
     "metadata": {},
     "output_type": "execute_result"
    }
   ],
   "source": [
    "\n",
    "\n",
    "df.groupby('batting_team')['batsman_runs'].mean().sort_values(ascending=False)*120"
   ]
  },
  {
   "cell_type": "markdown",
   "id": "3a2248e4-8b19-4a5d-87ca-6ffa251c023c",
   "metadata": {},
   "source": [
    "Average Death over strike rate of each team"
   ]
  },
  {
   "cell_type": "code",
   "execution_count": 72,
   "id": "de524f5a-3539-4b7e-bca6-6579330ebf40",
   "metadata": {},
   "outputs": [
    {
     "data": {
      "text/plain": [
       "batting_team\n",
       "Royal Challengers Bengaluru    180.838323\n",
       "Gujarat Titans                 175.862069\n",
       "Rising Pune Supergiants        171.372549\n",
       "Chennai Super Kings            170.239234\n",
       "Royal Challengers Bangalore    169.451804\n",
       "Mumbai Indians                 167.647059\n",
       "Lucknow Super Giants           167.361111\n",
       "Punjab Kings                   162.027353\n",
       "Rising Pune Supergiant         160.404624\n",
       "Kolkata Knight Riders          159.983945\n",
       "Delhi Daredevils               159.955329\n",
       "Delhi Capitals                 158.763413\n",
       "Rajasthan Royals               156.729094\n",
       "Sunrisers Hyderabad            156.246826\n",
       "Kings XI Punjab                153.207360\n",
       "Deccan Chargers                152.647596\n",
       "Gujarat Lions                  149.836066\n",
       "Kochi Tuskers Kerala           141.949153\n",
       "Pune Warriors                  134.500000\n",
       "Name: runs_on_ball, dtype: float64"
      ]
     },
     "execution_count": 72,
     "metadata": {},
     "output_type": "execute_result"
    }
   ],
   "source": [
    "death_overs=df[(df['over_ball']>=16.1) & (df['over_ball']<=19.6)]\n",
    "death_overs.groupby('batting_team')['runs_on_ball'].mean().sort_values(ascending=False)*100"
   ]
  },
  {
   "cell_type": "markdown",
   "id": "8d297788-33a0-4318-8012-f165c33495f3",
   "metadata": {},
   "source": [
    "Average power play strike rate of each team"
   ]
  },
  {
   "cell_type": "code",
   "execution_count": 73,
   "id": "29e7f0c7-2ddd-4151-83ee-cd0ceccb5b03",
   "metadata": {},
   "outputs": [
    {
     "data": {
      "text/plain": [
       "batting_team\n",
       "Royal Challengers Bengaluru    158.695652\n",
       "Gujarat Lions                  138.303571\n",
       "Delhi Capitals                 138.214496\n",
       "Punjab Kings                   134.768054\n",
       "Rising Pune Supergiant         131.028668\n",
       "Sunrisers Hyderabad            130.802123\n",
       "Gujarat Titans                 129.534606\n",
       "Kochi Tuskers Kerala           127.566540\n",
       "Lucknow Super Giants           127.000611\n",
       "Kolkata Knight Riders          126.684435\n",
       "Kings XI Punjab                125.528914\n",
       "Rajasthan Royals               124.874464\n",
       "Chennai Super Kings            124.277917\n",
       "Mumbai Indians                 124.035517\n",
       "Delhi Daredevils               122.318599\n",
       "Royal Challengers Bangalore    122.058824\n",
       "Deccan Chargers                121.528026\n",
       "Rising Pune Supergiants        120.463320\n",
       "Pune Warriors                  112.866547\n",
       "Name: runs_on_ball, dtype: float64"
      ]
     },
     "execution_count": 73,
     "metadata": {},
     "output_type": "execute_result"
    }
   ],
   "source": [
    "powerplay_strikerate=df[(df['over_ball']>=0.1) & (df['over_ball']<=5.6)]\n",
    "powerplay_strikerate.groupby('batting_team')['runs_on_ball'].mean().sort_values(ascending=False)*100"
   ]
  },
  {
   "cell_type": "code",
   "execution_count": null,
   "id": "8261b832-d4ad-4bde-9b90-d2fe1ac1dfbe",
   "metadata": {},
   "outputs": [],
   "source": []
  }
 ],
 "metadata": {
  "kernelspec": {
   "display_name": "Python 3 (ipykernel)",
   "language": "python",
   "name": "python3"
  },
  "language_info": {
   "codemirror_mode": {
    "name": "ipython",
    "version": 3
   },
   "file_extension": ".py",
   "mimetype": "text/x-python",
   "name": "python",
   "nbconvert_exporter": "python",
   "pygments_lexer": "ipython3",
   "version": "3.13.2"
  }
 },
 "nbformat": 4,
 "nbformat_minor": 5
}
